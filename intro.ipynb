{
  "nbformat": 4,
  "nbformat_minor": 0,
  "metadata": {
    "colab": {
      "provenance": [],
      "collapsed_sections": [],
      "authorship_tag": "ABX9TyOFYwvOHWRfxVcjYuV5iGBT",
      "include_colab_link": true
    },
    "kernelspec": {
      "name": "python3",
      "display_name": "Python 3"
    },
    "language_info": {
      "name": "python"
    }
  },
  "cells": [
    {
      "cell_type": "markdown",
      "metadata": {
        "id": "view-in-github",
        "colab_type": "text"
      },
      "source": [
        "<a href=\"https://colab.research.google.com/github/Andrzej94-ai/Andrzej94-ai/blob/main/intro.ipynb\" target=\"_parent\"><img src=\"https://colab.research.google.com/assets/colab-badge.svg\" alt=\"Open In Colab\"/></a>"
      ]
    },
    {
      "cell_type": "code",
      "execution_count": 1,
      "metadata": {
        "colab": {
          "base_uri": "https://localhost:8080/"
        },
        "id": "4NwD8YUZit86",
        "outputId": "3e516c13-03b5-49d1-a1c9-74ac193eff9e"
      },
      "outputs": [
        {
          "output_type": "stream",
          "name": "stdout",
          "text": [
            "Hello ja\n"
          ]
        }
      ],
      "source": [
        "print('Hello ja')"
      ]
    },
    {
      "cell_type": "markdown",
      "source": [
        "#Tekst"
      ],
      "metadata": {
        "id": "f6H3pBMijYGU"
      }
    },
    {
      "cell_type": "code",
      "source": [],
      "metadata": {
        "id": "rSSMdyrijSF0"
      },
      "execution_count": 1,
      "outputs": []
    },
    {
      "cell_type": "markdown",
      "source": [],
      "metadata": {
        "id": "6EzDg8SQjSfX"
      }
    }
  ]
}